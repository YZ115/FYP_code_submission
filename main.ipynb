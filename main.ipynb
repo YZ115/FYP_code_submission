{
 "cells": [
  {
   "cell_type": "code",
   "execution_count": 1,
   "id": "b9ff0bb0",
   "metadata": {},
   "outputs": [],
   "source": [
    "import sys\n",
    "import pprint, re\n",
    "from os import listdir\n",
    "from os.path import isfile, join\n",
    "import psycopg2\n",
    "import pandas as pd\n",
    "import pickle\n",
    "import pprint as pp\n",
    "import re\n",
    "import numpy as np\n",
    "import statistics as s\n",
    "import math\n",
    "from PIL import Image\n",
    "import matplotlib.pyplot as plt"
   ]
  },
  {
   "cell_type": "code",
   "execution_count": 2,
   "id": "fa24486b",
   "metadata": {},
   "outputs": [
    {
     "name": "stdout",
     "output_type": "stream",
     "text": [
      "Opened database successfully\n"
     ]
    }
   ],
   "source": [
    "conn = psycopg2.connect(database = \"postgres\", user = \"postgres\", password = \"123123\", host = \"localhost\", port = \"5432\")\n",
    "print (\"Opened database successfully\")"
   ]
  },
  {
   "cell_type": "code",
   "execution_count": 3,
   "id": "7603d052",
   "metadata": {},
   "outputs": [],
   "source": [
    "conn.autocommit = True\n",
    "curs = conn.cursor()\n",
    "SQL_STATEMENT = \"COPY %s FROM STDIN WITH CSV HEADER\"\n",
    "\n",
    "#table = 'CREATE TABLE aka_name (id integer NOT NULL PRIMARY KEY,person_id integer NOT NULL,name character varying,imdb_index character varying(3),name_pcode_cf character varying(11),name_pcode_nf character varying(11),surname_pcode character varying(11),md5sum character varying(65));'\n",
    "# table='''\n",
    "#     CREATE TABLE person_info (\n",
    "#     id integer NOT NULL PRIMARY KEY,\n",
    "#     person_id integer NOT NULL,\n",
    "#     info_type_id integer NOT NULL,\n",
    "#     info character varying NOT NULL,\n",
    "#     note character varying\n",
    "# );\n",
    "# '''\n",
    "# curs.execute(table)"
   ]
  },
  {
   "cell_type": "code",
   "execution_count": 4,
   "id": "30cf095b",
   "metadata": {},
   "outputs": [],
   "source": [
    "def process_file(conn, table_name, file_object):\n",
    "    cursor = conn.cursor()\n",
    "    cursor.copy_expert(sql=SQL_STATEMENT % table_name, file=file_object)\n",
    "    conn.commit()\n",
    "    cursor.close()"
   ]
  },
  {
   "cell_type": "code",
   "execution_count": 5,
   "id": "7c56b8a5",
   "metadata": {},
   "outputs": [],
   "source": [
    "def flatten(t):\n",
    "    return [item for sublist in t for item in sublist]\n",
    "\n",
    "def orderOfMagnitude(number):\n",
    "    return math.floor(math.log(number, 10))\n",
    "\n",
    "def delchars(chars, table):\n",
    "    for i in range(len(table)):\n",
    "        for j, value in enumerate(table[i][1]):\n",
    "            table[i][1][j]= table[i][1][j].translate(str.maketrans('', '', chars))\n",
    "        #pp.pprint(table[i][1])\n",
    "def elimDupe(splitString, beforeSplit, table):\n",
    "    if len(splitString) > 1 and table.count(splitString[0]) == 0: table.append(splitString[0])\n",
    "    elif len(splitString) == 1: table.append(beforeSplit)"
   ]
  },
  {
   "cell_type": "code",
   "execution_count": 6,
   "id": "fcfe9092",
   "metadata": {},
   "outputs": [],
   "source": [
    "def extractFeaturesPostgreS(tableOld, tMap, TMap):\n",
    "    featuresRaw = []\n",
    "    minC, maxC, minR, maxR = 999999999999, -1, 999999999999, -1\n",
    "    for i in range(len(tableOld)):\n",
    "        currFeatures = []\n",
    "        for j in range(len(tableOld[i][1])):\n",
    "            for k, (key, Value) in enumerate(tMap.items()):\n",
    "                if tableOld[i][1][j].find(key) > -1:\n",
    "                    opType = Value\n",
    "                    break\n",
    "                else: continue\n",
    "            tableUsed = findScanTable(tableOld[i][1][j], TMap)\n",
    "            if tableOld[i][1][j].find('cost=') > -1 and tableOld[i][1][j].find('rows=') > -1:\n",
    "                \n",
    "                estC = tableOld[i][1][j][tableOld[i][1][j].find('cost=') + 5 : tableOld[i][1][j].find('rows=')].split('..')\n",
    "                estR = tableOld[i][1][j][tableOld[i][1][j].find('rows=') + 5 : tableOld[i][1][j].find('width=')]\n",
    "                minC = updateMin(minC, float(estC[1]))\n",
    "                maxC = updateMax(maxC, float(estC[1]))\n",
    "                minR = updateMin(minR, float(estR))\n",
    "                maxR = updateMax(maxR, float(estR))\n",
    "                currFeatures.append([opType, tableUsed, float(estC[1]), float(estR)])\n",
    "        featuresRaw.append([tableOld[i][0], currFeatures])\n",
    "    return featuresRaw, minC, maxC, minR, maxR"
   ]
  },
  {
   "cell_type": "code",
   "execution_count": 7,
   "id": "41752496",
   "metadata": {},
   "outputs": [],
   "source": [
    "def findScanTable(opString, tables):\n",
    "    if opString.find('Scanon') > -1 or opString.find('Scanusing') > -1:\n",
    "        #tableStr = opString[opString.find('Scanon') + 6 : re.search(r'\\W+', opString).start()]\n",
    "        for i, (key, value) in enumerate(tables.items()):\n",
    "            if opString.find(key) > -1: return value\n",
    "    return -1\n",
    "\n",
    "def getOccurances(entry, data, tMap, ind = 1):\n",
    "    count = 0\n",
    "    for i in range(len(data)):\n",
    "        for j in range(len(data[i][1])):\n",
    "            if data[i][1][j][ind] == entry: count += 1\n",
    "    return count"
   ]
  },
  {
   "cell_type": "code",
   "execution_count": 8,
   "id": "5941f31a",
   "metadata": {},
   "outputs": [],
   "source": [
    "# replace costs and rows with their orders of magnitude\n",
    "def fillEmptyTableDataOOD(table):\n",
    "    for i in range(len(table)):\n",
    "        currTable = -1\n",
    "        for j in reversed(table[i][1]):\n",
    "            if not j[1] == -1:\n",
    "                currTable = j[1]\n",
    "            else:\n",
    "                j[1] = currTable\n",
    "            # tables (256/5)\n",
    "            j[1] = int((j[1] + 1) * 51)\n",
    "            # costs (256/6)\n",
    "            j[2] = int(orderOfMagnitude(j[2]) * 42.66)\n",
    "            # rows (256/8)\n",
    "            j[3] = int(orderOfMagnitude(j[3]) * 32)"
   ]
  },
  {
   "cell_type": "code",
   "execution_count": 9,
   "id": "bb4d5c35",
   "metadata": {},
   "outputs": [],
   "source": [
    "def getLabelTime(tableOld):\n",
    "    Labels = []\n",
    "    for i in range(len(tableOld)):\n",
    "        if tableOld[i][1][0].find('actualtime=') > -1 and tableOld[i][1][0].rfind('rows=') > -1:\n",
    "            label = tableOld[i][1][0][tableOld[i][1][0].find('actualtime=') + 11 : tableOld[i][1][0].rfind('rows=')].split('..')\n",
    "            Labels.append([tableOld[i][0], float(label[1])])\n",
    "    return Labels\n",
    "\n",
    "def getLabelRows(tableOld):\n",
    "    Labels = []\n",
    "    for i in range(len(tableOld)):\n",
    "        if tableOld[i][1][0].find('actualtime=') > -1 and tableOld[i][1][0].rfind('rows=') > -1:\n",
    "            label = tableOld[i][1][0][tableOld[i][1][0].rfind('rows=') + 5 : tableOld[i][1][0].rfind('loops=')]\n",
    "            Labels.append([tableOld[i][0], float(label)])\n",
    "    return Labels"
   ]
  },
  {
   "cell_type": "code",
   "execution_count": 10,
   "id": "653986b4",
   "metadata": {},
   "outputs": [],
   "source": [
    "def getMinMaxLabel(labels):\n",
    "    return np.amin(labels.astype(float)), np.amax(labels.astype(float))\n",
    "\n",
    "def normalizeLabel(labels):\n",
    "    amin, amax = getMinMaxLabel(labels)\n",
    "    print(amin, amax)\n",
    "    for i, val in enumerate(labels):\n",
    "        labels[i] = (val.astype(float)-amin) / (amax-amin)"
   ]
  },
  {
   "cell_type": "code",
   "execution_count": 11,
   "id": "0712c8b0",
   "metadata": {},
   "outputs": [],
   "source": [
    "# possible feature values [1, 2, 3]\n",
    "\n",
    "def printFeatureInfo(feature, data):\n",
    "    res = []\n",
    "    for i in range(len(data)):\n",
    "        for j in range(len(data[i][1])):\n",
    "            res.append(float(data[i][1][j][feature]))\n",
    "    res = pd.DataFrame(res)\n",
    "    res.describe()\n",
    "    return res"
   ]
  },
  {
   "cell_type": "code",
   "execution_count": 12,
   "id": "96df44d2",
   "metadata": {},
   "outputs": [],
   "source": [
    "def updateMin(currMin, val):\n",
    "    if currMin < val:\n",
    "        return currMin\n",
    "    else: return val\n",
    "\n",
    "def updateMax(currMax, val):\n",
    "    if currMax > val:\n",
    "        return currMax\n",
    "    else: return val"
   ]
  },
  {
   "cell_type": "code",
   "execution_count": 13,
   "id": "1b9980ff",
   "metadata": {},
   "outputs": [],
   "source": [
    "# datasets already loaded in postgres (some are not mentioned in synthetic data):\n",
    "fulltableMap = {\n",
    "    'aka_name' : 0,\n",
    "    'aka_title' : 1,\n",
    "    'cast_info' : 2,\n",
    "    'char_name' : 3,\n",
    "    'comp_cast_type' : 4,\n",
    "    'company_name' : 5,\n",
    "    'company_type' : 6,\n",
    "    'complete_cast' : 7,\n",
    "    'info_type' : 8,\n",
    "    'keyword' : 9,\n",
    "    'kind_type' : 10,\n",
    "    'link_type' :11,\n",
    "    'movie_companies' : 12,\n",
    "    'movie_info' : 13,\n",
    "    'movie_info_idx' : 14,\n",
    "    'movie_keyword' : 15,\n",
    "    'movie_link' : 16,\n",
    "    'name' : 17,\n",
    "    'person_info' : 18,\n",
    "    'role_type' : 19,\n",
    "    'title' : 20\n",
    "}\n",
    "\n",
    "# arranged in size, ascending order\n",
    "tableMap = {\n",
    "    'title' : 0,\n",
    "    'movie_companies' : 1,\n",
    "    'keyword' : 2,\n",
    "    'movie_info' : 3,\n",
    "    'cast_info' : 4\n",
    "}"
   ]
  },
  {
   "cell_type": "code",
   "execution_count": 14,
   "id": "ae631e8d",
   "metadata": {},
   "outputs": [],
   "source": [
    "# file_name = 'aka_title'\n",
    "# data_path = f'datasets/job/{file_name}.csv'\n",
    "# with open(data_path, 'r', encoding=\"utf-8\") as file:\n",
    "#     process_file(conn, file_name, file)\n",
    "#     #curs.copy_expert(\"COPY company_name FROM stdin WITH CSV HEADER\",file)\n",
    "#     file.close()"
   ]
  },
  {
   "cell_type": "code",
   "execution_count": 16,
   "id": "9b2f1f22",
   "metadata": {},
   "outputs": [],
   "source": [
    "p = pp.PrettyPrinter()\n",
    "\n",
    "jobs = []\n",
    "f = open(\"queries/synthetic.sql\", \"r\")\n",
    "while True:\n",
    "    temp = f.readline()\n",
    "    if temp == 'end' : break\n",
    "    temp = temp.replace(';\\n', '')\n",
    "    jobs.append(temp)\n",
    "f.close()\n",
    "\n",
    "save_file = 'data_postgres.pkl'"
   ]
  },
  {
   "cell_type": "code",
   "execution_count": 17,
   "id": "e02b533d",
   "metadata": {},
   "outputs": [],
   "source": [
    "# execute queries and save to file\n",
    "\n",
    "# for i in range(len(jobs)):\n",
    "#     #data = []\n",
    "#     curs.execute(curs.mogrify('explain analyze ' + jobs[i]))\n",
    "#     analyze_fetched = curs.fetchall()\n",
    "#     #data.append([jobs[i], analyze_fetched])\n",
    "#     with open(save_file, 'ab') as file:\n",
    "#         pickle.dump([jobs[i], analyze_fetched], file)\n",
    "# #     for i in range(len(analyze_fetched)):\n",
    "# #         print(analyze_fetched[i])"
   ]
  },
  {
   "cell_type": "code",
   "execution_count": 20,
   "id": "4cfd20cf",
   "metadata": {},
   "outputs": [
    {
     "name": "stdout",
     "output_type": "stream",
     "text": [
      "end\n"
     ]
    }
   ],
   "source": [
    "test=[]\n",
    "with open(save_file, \"rb\") as f:\n",
    "    while True:\n",
    "        try:\n",
    "            current_id=pickle.load(f)\n",
    "            test.append(current_id)\n",
    "        except EOFError:\n",
    "            print('end')\n",
    "            break\n",
    "test = flatten(test)"
   ]
  },
  {
   "cell_type": "code",
   "execution_count": 21,
   "id": "44d33790",
   "metadata": {},
   "outputs": [
    {
     "name": "stdout",
     "output_type": "stream",
     "text": [
      "5000\n"
     ]
    }
   ],
   "source": [
    "print(len(test))"
   ]
  },
  {
   "cell_type": "code",
   "execution_count": 22,
   "id": "8ed20dd6",
   "metadata": {
    "scrolled": false
   },
   "outputs": [],
   "source": [
    "for i in range(len(test)):\n",
    "    test[i][1] = flatten(test[i][1])\n",
    "    for j, value in enumerate(test[i][1]):\n",
    "        test[i][1][j] = test[i][1][j].strip(\" \\n',\")\n",
    "        #print(test[i][1][j])"
   ]
  },
  {
   "cell_type": "code",
   "execution_count": 23,
   "id": "5a4ecd9d",
   "metadata": {},
   "outputs": [],
   "source": [
    "# chars = '+- '\n",
    "delchars('+- ', test)"
   ]
  },
  {
   "cell_type": "code",
   "execution_count": 24,
   "id": "c2223fda",
   "metadata": {},
   "outputs": [],
   "source": [
    "tokens = []\n",
    "nestedTokens = []\n",
    "for i in range(len(test)):\n",
    "    for j, value in enumerate(test[i][1]):\n",
    "        getPref = test[i][1][j][0:re.search(r'\\W+', test[i][1][j]).start()]\n",
    "        getNestedPref = test[i][1][j][1:test[i][1][j].find('(')]\n",
    "        if getPref == '' and nestedTokens.count(getNestedPref) == 0:\n",
    "            excludeTable = re.split('on|using', getNestedPref)\n",
    "            elimDupe(excludeTable, getNestedPref, nestedTokens)\n",
    "                \n",
    "        if tokens.count(getPref) == 0:  \n",
    "#             excludeTable = re.split('using', getPref)\n",
    "            if getPref.find('Scanon') > -1:\n",
    "                excludeTable = re.split('on', getPref)\n",
    "            else: excludeTable = re.split('using', getPref)\n",
    "            elimDupe(excludeTable, getPref, tokens)"
   ]
  },
  {
   "cell_type": "code",
   "execution_count": 25,
   "id": "2778f0f4",
   "metadata": {},
   "outputs": [],
   "source": [
    "# print('\\nNested Tokens:\\n')\n",
    "# pp.pprint(nestedTokens)\n",
    "# print('\\nTokens: \\n')\n",
    "# pp.pprint(tokens)"
   ]
  },
  {
   "cell_type": "code",
   "execution_count": 26,
   "id": "530ca843",
   "metadata": {},
   "outputs": [
    {
     "name": "stdout",
     "output_type": "stream",
     "text": [
      "Gather 9\n",
      "ParallelSeqScan 4\n",
      "ParallelHashJoin 8\n",
      "HashJoin 10\n",
      "SeqScan 7\n",
      "ParallelHash 3\n",
      "Hash 6\n",
      "NestedLoop 5\n",
      "IndexScan 2\n",
      "Memoize 1\n"
     ]
    }
   ],
   "source": [
    "tokenMap = {\n",
    "    'Gather': 9,\n",
    "    'ParallelSeqScan': 4,\n",
    "    'ParallelHashJoin': 8,\n",
    "    'HashJoin': 10,\n",
    "    'SeqScan': 7,\n",
    "    'ParallelHash': 3,\n",
    "    'Hash': 6,\n",
    "    'NestedLoop': 5,\n",
    "    'IndexScan': 2,\n",
    "    'Memoize': 1,\n",
    "}\n",
    "for i, (key, value) in enumerate(tokenMap.items()):\n",
    "    print(key, value)"
   ]
  },
  {
   "cell_type": "code",
   "execution_count": 27,
   "id": "38796348",
   "metadata": {},
   "outputs": [],
   "source": [
    "delchars('>', test)"
   ]
  },
  {
   "cell_type": "code",
   "execution_count": 28,
   "id": "b01922ce",
   "metadata": {},
   "outputs": [],
   "source": [
    "result, minCosts, maxCosts, minRows, maxRows = extractFeaturesPostgreS(test, tokenMap, tableMap)\n",
    "result2, minCosts, maxCosts, minRows, maxRows = extractFeaturesPostgreS(test, tokenMap, tableMap)"
   ]
  },
  {
   "cell_type": "code",
   "execution_count": 29,
   "id": "e131d940",
   "metadata": {},
   "outputs": [
    {
     "name": "stdout",
     "output_type": "stream",
     "text": [
      "title : 3766\n",
      "movie_companies : 1548\n",
      "keyword : 1873\n",
      "movie_info : 2027\n",
      "cast_info : 1827\n"
     ]
    }
   ],
   "source": [
    "for i, (key, value) in enumerate(tableMap.items()):\n",
    "    c = getOccurances(value, result, tableMap)\n",
    "    print(f'{key} : {c}')"
   ]
  },
  {
   "cell_type": "code",
   "execution_count": 30,
   "id": "1134fd4b",
   "metadata": {},
   "outputs": [
    {
     "name": "stdout",
     "output_type": "stream",
     "text": [
      "Gather : 3655\n",
      "ParallelSeqScan : 7976\n",
      "ParallelHashJoin : 4321\n",
      "HashJoin : 931\n",
      "SeqScan : 2276\n",
      "ParallelHash : 4321\n",
      "Hash : 931\n",
      "NestedLoop : 789\n",
      "IndexScan : 789\n",
      "Memoize : 54\n"
     ]
    }
   ],
   "source": [
    "for i, (key, value) in enumerate(tokenMap.items()):\n",
    "    c = getOccurances(value, result, tokenMap, ind = 0)\n",
    "    print(f'{key} : {c}')"
   ]
  },
  {
   "cell_type": "code",
   "execution_count": 31,
   "id": "0af213f8",
   "metadata": {},
   "outputs": [
    {
     "name": "stdout",
     "output_type": "stream",
     "text": [
      "[[10, 255, 255, 224], [7, 255, 213, 224], [6, 51, 170, 192], [7, 51, 170, 192]]\n"
     ]
    }
   ],
   "source": [
    "fillEmptyTableDataOOD(result)\n",
    "print(result[2][1])"
   ]
  },
  {
   "cell_type": "code",
   "execution_count": 32,
   "id": "cbbb29e6",
   "metadata": {},
   "outputs": [
    {
     "data": {
      "text/html": [
       "<div>\n",
       "<style scoped>\n",
       "    .dataframe tbody tr th:only-of-type {\n",
       "        vertical-align: middle;\n",
       "    }\n",
       "\n",
       "    .dataframe tbody tr th {\n",
       "        vertical-align: top;\n",
       "    }\n",
       "\n",
       "    .dataframe thead th {\n",
       "        text-align: right;\n",
       "    }\n",
       "</style>\n",
       "<table border=\"1\" class=\"dataframe\">\n",
       "  <thead>\n",
       "    <tr style=\"text-align: right;\">\n",
       "      <th></th>\n",
       "      <th>0</th>\n",
       "    </tr>\n",
       "  </thead>\n",
       "  <tbody>\n",
       "    <tr>\n",
       "      <th>count</th>\n",
       "      <td>2.604300e+04</td>\n",
       "    </tr>\n",
       "    <tr>\n",
       "      <th>mean</th>\n",
       "      <td>2.332564e+05</td>\n",
       "    </tr>\n",
       "    <tr>\n",
       "      <th>std</th>\n",
       "      <td>3.379958e+05</td>\n",
       "    </tr>\n",
       "    <tr>\n",
       "      <th>min</th>\n",
       "      <td>4.600000e-01</td>\n",
       "    </tr>\n",
       "    <tr>\n",
       "      <th>25%</th>\n",
       "      <td>4.995794e+04</td>\n",
       "    </tr>\n",
       "    <tr>\n",
       "      <th>50%</th>\n",
       "      <td>8.100313e+04</td>\n",
       "    </tr>\n",
       "    <tr>\n",
       "      <th>75%</th>\n",
       "      <td>3.113732e+05</td>\n",
       "    </tr>\n",
       "    <tr>\n",
       "      <th>max</th>\n",
       "      <td>5.526418e+06</td>\n",
       "    </tr>\n",
       "  </tbody>\n",
       "</table>\n",
       "</div>"
      ],
      "text/plain": [
       "                  0\n",
       "count  2.604300e+04\n",
       "mean   2.332564e+05\n",
       "std    3.379958e+05\n",
       "min    4.600000e-01\n",
       "25%    4.995794e+04\n",
       "50%    8.100313e+04\n",
       "75%    3.113732e+05\n",
       "max    5.526418e+06"
      ]
     },
     "execution_count": 32,
     "metadata": {},
     "output_type": "execute_result"
    }
   ],
   "source": [
    "# costs: 2, rows: 3\n",
    "res = printFeatureInfo(2, result2)\n",
    "res.describe()"
   ]
  },
  {
   "cell_type": "code",
   "execution_count": 33,
   "id": "21f26a02",
   "metadata": {},
   "outputs": [
    {
     "data": {
      "image/png": "[encoded data removed]",
      "text/plain": [
       "<Figure size 720x216 with 1 Axes>"
      ]
     },
     "metadata": {
      "needs_background": "light"
     },
     "output_type": "display_data"
    }
   ],
   "source": [
    "fig, ax=plt.subplots(figsize = (10,3))\n",
    "#ax.figsize(20,10)\n",
    "ax.boxplot(res, vert = False)\n",
    "ax.set_xscale('log')\n",
    "plt.show()"
   ]
  },
  {
   "cell_type": "code",
   "execution_count": 34,
   "id": "194675e0",
   "metadata": {},
   "outputs": [],
   "source": [
    "labelT = np.array(getLabelTime(test))\n",
    "labelR = np.array(getLabelRows(test))"
   ]
  },
  {
   "cell_type": "code",
   "execution_count": 35,
   "id": "5f95c975",
   "metadata": {},
   "outputs": [
    {
     "name": "stdout",
     "output_type": "stream",
     "text": [
      "65.808 185985.584\n",
      "(0.0, 1.0)\n",
      "1.0 424508167.0\n",
      "(0.0, 1.0)\n"
     ]
    }
   ],
   "source": [
    "normalizeLabel(labelT[:,1])\n",
    "print(getMinMaxLabel(labelT[:,1]))\n",
    "normalizeLabel(labelR[:,1])\n",
    "print(getMinMaxLabel(labelR[:,1]))"
   ]
  },
  {
   "cell_type": "code",
   "execution_count": 36,
   "id": "3adcf60a",
   "metadata": {},
   "outputs": [],
   "source": [
    "labelDF = pd.DataFrame(labelT, columns = ['query','label'])\n",
    "labelDF.head()\n",
    "labelDF.to_csv('labels_rowsT.csv', index = False)"
   ]
  },
  {
   "cell_type": "code",
   "execution_count": 37,
   "id": "b879988f",
   "metadata": {},
   "outputs": [
    {
     "name": "stderr",
     "output_type": "stream",
     "text": [
      "C:\\Users\\Yuhan\\AppData\\Local\\Temp\\ipykernel_15736\\56692877.py:2: VisibleDeprecationWarning: Creating an ndarray from ragged nested sequences (which is a list-or-tuple of lists-or-tuples-or ndarrays with different lengths or shapes) is deprecated. If you meant to do this, you must specify 'dtype=object' when creating the ndarray.\n",
      "  temp = np.array(result2)\n"
     ]
    },
    {
     "data": {
      "text/plain": [
       "<function matplotlib.pyplot.show(close=None, block=None)>"
      ]
     },
     "execution_count": 37,
     "metadata": {},
     "output_type": "execute_result"
    },
    {
     "data": {
      "image/png": "[encoded data removed]",
      "text/plain": [
       "<Figure size 720x720 with 1 Axes>"
      ]
     },
     "metadata": {
      "needs_background": "light"
     },
     "output_type": "display_data"
    }
   ],
   "source": [
    "# visualize costs vs rows for estimated postgres values\n",
    "temp = np.array(result2)\n",
    "x = []\n",
    "y= []\n",
    "for i in range(len(result2)):\n",
    "    x.append(result2[i][1][0][2])\n",
    "    y.append(result2[i][1][0][3])\n",
    "\n",
    "plt.figure(figsize = (10,10))\n",
    "plt.scatter(np.array(x),y)\n",
    "plt.show"
   ]
  },
  {
   "cell_type": "markdown",
   "id": "a35bf99e",
   "metadata": {},
   "source": [
    "START OF IMAGE PREPROCESSING\n",
    "---\n",
    "---"
   ]
  },
  {
   "cell_type": "code",
   "execution_count": 45,
   "id": "28b4d3b8",
   "metadata": {},
   "outputs": [],
   "source": [
    "import matplotlib.image as img\n",
    "import os, csv\n",
    "import cv2\n",
    "import numpy as np\n",
    "import matplotlib.pyplot as plt\n",
    "from PIL import Image\n",
    "from tqdm import tqdm"
   ]
  },
  {
   "cell_type": "code",
   "execution_count": 46,
   "id": "29ed95cd",
   "metadata": {},
   "outputs": [
    {
     "name": "stderr",
     "output_type": "stream",
     "text": [
      "D:\\Anaconda\\lib\\site-packages\\tensorflow_addons\\utils\\ensure_tf_install.py:37: UserWarning: You are currently using a nightly version of TensorFlow (2.5.0-dev20201110). \n",
      "TensorFlow Addons offers no support for the nightly versions of TensorFlow. Some things might work, some other might not. \n",
      "If you encounter a bug, do not file an issue on GitHub.\n",
      "  warnings.warn(\n"
     ]
    }
   ],
   "source": [
    "from sklearn.model_selection import StratifiedShuffleSplit\n",
    "\n",
    "from tensorflow.keras import optimizers\n",
    "from tensorflow.keras.models import Sequential, Model\n",
    "from tensorflow.keras.layers import Dense, Dropout, Flatten\n",
    "from tensorflow.keras.layers import Conv2D, MaxPooling2D, BatchNormalization, GlobalAveragePooling2D\n",
    "from tensorflow.keras.callbacks import EarlyStopping, ModelCheckpoint, ReduceLROnPlateau\n",
    "from sklearn.model_selection import train_test_split\n",
    "from tensorflow.keras.applications import *\n",
    "import tensorflow_addons as tfa"
   ]
  },
  {
   "cell_type": "code",
   "execution_count": 47,
   "id": "af36c3c4",
   "metadata": {},
   "outputs": [],
   "source": [
    "path = 'image_data'\n",
    "if not os.path.exists(path):\n",
    "    os.makedirs(path)"
   ]
  },
  {
   "cell_type": "code",
   "execution_count": 48,
   "id": "17f5de40",
   "metadata": {},
   "outputs": [],
   "source": [
    "# Image RGB channels: R = tables, G = estimated costs, B = estimated rows\n",
    "\n",
    "def dataToImage(data, save_path):\n",
    "    imageList = []\n",
    "    maxDim = -1\n",
    "    for i in range(len(data)): #len(data)\n",
    "        image = []\n",
    "        if len(data[i][1]) > maxDim: maxDim = len(data[i][1])\n",
    "        for j in range(len(data[i][1])):\n",
    "            row = []\n",
    "            for k in range(data[i][1][j][0]):\n",
    "                row.append([data[i][1][j][1], data[i][1][j][2], data[i][1][j][3]])\n",
    "            if k < 9:\n",
    "                for a in range(9 - k):\n",
    "                    row.append([0, 0, 0])\n",
    "            image.append(row)\n",
    "        imageList.append(image)\n",
    "    for i in range(len(data)):\n",
    "        padImage(imageList[i], maxDim)\n",
    "        #pp.pprint(imageList[i])\n",
    "        saveImage(imageList[i], i, path = save_path)\n",
    "        #pp.pprint(image)\n",
    "    return maxDim, imageList"
   ]
  },
  {
   "cell_type": "code",
   "execution_count": 49,
   "id": "52483639",
   "metadata": {},
   "outputs": [],
   "source": [
    "def padImage(image, maxRows):\n",
    "    for i in range(len(image)):\n",
    "        #print(len(image), maxRows)\n",
    "        if len(image) < maxRows:\n",
    "            for j in range(maxRows - len(image)):\n",
    "                row = []\n",
    "                for k in range(10):\n",
    "                    row.append([0, 0, 0])\n",
    "                image.append(row)\n",
    "        #pp.pprint(image[i])\n",
    "def saveImage(image, name, path = 'image_data'):\n",
    "    image = np.array(image)\n",
    "    im = Image.fromarray(image.astype(np.uint8))\n",
    "    im.save(f'{path}/query_{name}.png')\n",
    "    #img.imsave(, image)\n",
    "def saveImage_im(image, name, path = 'image_data'):\n",
    "    cv2.imwrite(f'{path}/{name}.png', image)"
   ]
  },
  {
   "cell_type": "code",
   "execution_count": 50,
   "id": "2b50e6fa",
   "metadata": {},
   "outputs": [],
   "source": [
    "mDim, imageL = dataToImage(result, path)\n",
    "#pp.pprint(imageL)"
   ]
  },
  {
   "cell_type": "code",
   "execution_count": 51,
   "id": "42788764",
   "metadata": {},
   "outputs": [
    {
     "name": "stdout",
     "output_type": "stream",
     "text": [
      "(8, 10, 3)\n"
     ]
    }
   ],
   "source": [
    "#pp.pprint(result[:3])\n",
    "num = np.array(imageL[0])\n",
    "print(num.shape)\n",
    "with open('labels_rows.csv', newline='') as csvfile:\n",
    "    labels = list(csv.reader(csvfile))"
   ]
  },
  {
   "cell_type": "code",
   "execution_count": 52,
   "id": "7a873d48",
   "metadata": {},
   "outputs": [
    {
     "data": {
      "text/plain": [
       "<matplotlib.image.AxesImage at 0x1d858b17970>"
      ]
     },
     "execution_count": 52,
     "metadata": {},
     "output_type": "execute_result"
    },
    {
     "data": {
      "image/png": "[encoded data removed]",
      "text/plain": [
       "<Figure size 432x288 with 1 Axes>"
      ]
     },
     "metadata": {
      "needs_background": "light"
     },
     "output_type": "display_data"
    }
   ],
   "source": [
    "currImage = cv2.imread(f'{path}/query_3.png') \n",
    "plt.imshow(currImage)"
   ]
  },
  {
   "cell_type": "code",
   "execution_count": 53,
   "id": "c58907d0",
   "metadata": {},
   "outputs": [
    {
     "data": {
      "text/html": [
       "<div>\n",
       "<style scoped>\n",
       "    .dataframe tbody tr th:only-of-type {\n",
       "        vertical-align: middle;\n",
       "    }\n",
       "\n",
       "    .dataframe tbody tr th {\n",
       "        vertical-align: top;\n",
       "    }\n",
       "\n",
       "    .dataframe thead th {\n",
       "        text-align: right;\n",
       "    }\n",
       "</style>\n",
       "<table border=\"1\" class=\"dataframe\">\n",
       "  <thead>\n",
       "    <tr style=\"text-align: right;\">\n",
       "      <th></th>\n",
       "      <th>query</th>\n",
       "      <th>label</th>\n",
       "      <th>index</th>\n",
       "    </tr>\n",
       "  </thead>\n",
       "  <tbody>\n",
       "    <tr>\n",
       "      <th>0</th>\n",
       "      <td>SELECT * FROM  cast_info AS ci WHERE ci.person...</td>\n",
       "      <td>0.006720032838249546</td>\n",
       "      <td>0</td>\n",
       "    </tr>\n",
       "    <tr>\n",
       "      <th>1</th>\n",
       "      <td>SELECT * FROM  title AS t, movie_info AS mi WH...</td>\n",
       "      <td>0.006958920819698061</td>\n",
       "      <td>1</td>\n",
       "    </tr>\n",
       "    <tr>\n",
       "      <th>2</th>\n",
       "      <td>SELECT * FROM  title AS t, cast_info AS ci WHE...</td>\n",
       "      <td>0.13665377910093868</td>\n",
       "      <td>2</td>\n",
       "    </tr>\n",
       "    <tr>\n",
       "      <th>3</th>\n",
       "      <td>SELECT * FROM  title AS t, cast_info AS ci, mo...</td>\n",
       "      <td>0.012720174533773103</td>\n",
       "      <td>3</td>\n",
       "    </tr>\n",
       "    <tr>\n",
       "      <th>4</th>\n",
       "      <td>SELECT * FROM  title AS t, cast_info AS ci, mo...</td>\n",
       "      <td>0.017440683663474295</td>\n",
       "      <td>4</td>\n",
       "    </tr>\n",
       "  </tbody>\n",
       "</table>\n",
       "</div>"
      ],
      "text/plain": [
       "                                               query                 label  \\\n",
       "0  SELECT * FROM  cast_info AS ci WHERE ci.person...  0.006720032838249546   \n",
       "1  SELECT * FROM  title AS t, movie_info AS mi WH...  0.006958920819698061   \n",
       "2  SELECT * FROM  title AS t, cast_info AS ci WHE...   0.13665377910093868   \n",
       "3  SELECT * FROM  title AS t, cast_info AS ci, mo...  0.012720174533773103   \n",
       "4  SELECT * FROM  title AS t, cast_info AS ci, mo...  0.017440683663474295   \n",
       "\n",
       "   index  \n",
       "0      0  \n",
       "1      1  \n",
       "2      2  \n",
       "3      3  \n",
       "4      4  "
      ]
     },
     "execution_count": 53,
     "metadata": {},
     "output_type": "execute_result"
    }
   ],
   "source": [
    "# use labelT for label = actual time, labelR for label = actual rows\n",
    "\n",
    "data_labels = pd.DataFrame(labelT, columns = ['query', 'label'])\n",
    "data_labels['index'] = data_labels.index\n",
    "data_labels.head()"
   ]
  },
  {
   "cell_type": "code",
   "execution_count": 54,
   "id": "4057e346",
   "metadata": {},
   "outputs": [],
   "source": [
    "labels = data_labels[['index','label']].astype(float)\n",
    "labels['index'] = data_labels['index'].astype(int)\n",
    "labels.head()\n",
    "\n",
    "labels = data_labels['label'].astype(float)"
   ]
  },
  {
   "cell_type": "code",
   "execution_count": 55,
   "id": "582613d3",
   "metadata": {},
   "outputs": [
    {
     "data": {
      "text/plain": [
       "count   5000.000000000\n",
       "mean       0.024950807\n",
       "std        0.061983458\n",
       "min        0.000000000\n",
       "25%        0.001870639\n",
       "50%        0.008433148\n",
       "75%        0.019210919\n",
       "max        1.000000000\n",
       "Name: label, dtype: float64"
      ]
     },
     "execution_count": 55,
     "metadata": {},
     "output_type": "execute_result"
    }
   ],
   "source": [
    "pd.set_option('display.float_format', lambda x: '%.9f' % x)\n",
    "labels.describe()"
   ]
  },
  {
   "cell_type": "code",
   "execution_count": 56,
   "id": "78ba5c57",
   "metadata": {},
   "outputs": [
    {
     "data": {
      "image/png": "[encoded data removed]",
      "text/plain": [
       "<Figure size 720x216 with 1 Axes>"
      ]
     },
     "metadata": {
      "needs_background": "light"
     },
     "output_type": "display_data"
    }
   ],
   "source": [
    "fig, ax=plt.subplots(figsize = (10,3))\n",
    "#ax.figsize(20,10)\n",
    "ax.boxplot(labels, vert = False)\n",
    "ax.set_xscale('log')\n",
    "plt.show()"
   ]
  },
  {
   "cell_type": "code",
   "execution_count": 57,
   "id": "5cb6c596",
   "metadata": {},
   "outputs": [
    {
     "name": "stdout",
     "output_type": "stream",
     "text": [
      "(5000, 24, 30, 3)\n",
      "(5000,)\n"
     ]
    }
   ],
   "source": [
    "x_train = []\n",
    "y_train = []\n",
    "\n",
    "xdim = 30\n",
    "ydim = 24\n",
    "files = os.listdir(\"image_data\")\n",
    "for i in range(len(files)):    # Directory\n",
    "    img = cv2.imread('image_data/query_{}.png'.format(i), cv2.IMREAD_UNCHANGED)\n",
    "    x_train.append(cv2.resize(img, (xdim, ydim), interpolation = cv2.INTER_AREA))\n",
    "    \n",
    "y_train = labels\n",
    "x_train = np.array(x_train)\n",
    "\n",
    "print(x_train.shape)\n",
    "print(y_train.shape)"
   ]
  },
  {
   "cell_type": "code",
   "execution_count": 58,
   "id": "6f9fa66f",
   "metadata": {},
   "outputs": [],
   "source": [
    "x_train, x_test, y_train, y_test = train_test_split(x_train, y_train, test_size=0.4, random_state=10)\n",
    "x_test, x_val, y_test, y_val = train_test_split(x_test, y_test, test_size=0.5, random_state=10)"
   ]
  },
  {
   "cell_type": "code",
   "execution_count": 59,
   "id": "349ffdcf",
   "metadata": {},
   "outputs": [
    {
     "name": "stdout",
     "output_type": "stream",
     "text": [
      "(3000, 24, 30, 3) (3000,)\n",
      "(1000, 24, 30, 3) (1000,)\n",
      "(1000, 24, 30, 3) (1000,)\n"
     ]
    }
   ],
   "source": [
    "print(x_train.shape, y_train.shape)\n",
    "print(x_val.shape, y_val.shape)\n",
    "print(x_test.shape, y_test.shape)"
   ]
  },
  {
   "cell_type": "markdown",
   "id": "9f9eeee9",
   "metadata": {},
   "source": [
    "END OF PREPROCESSING\n",
    "---\n",
    "---"
   ]
  },
  {
   "cell_type": "code",
   "execution_count": 38,
   "id": "2e01b1fd",
   "metadata": {},
   "outputs": [],
   "source": [
    "import tensorflow as tf\n",
    "from tensorflow import keras\n",
    "import numpy as np\n",
    "import matplotlib.pyplot as plt\n",
    "import math\n",
    "from sklearn.model_selection import train_test_split\n",
    "from sklearn.metrics import mean_squared_error, r2_score\n",
    "import time\n",
    "import seaborn as sb"
   ]
  },
  {
   "cell_type": "code",
   "execution_count": 70,
   "id": "00dd51a4",
   "metadata": {},
   "outputs": [],
   "source": [
    "def getModel():\n",
    "\n",
    "    model = Sequential()\n",
    "\n",
    "    model.add(Conv2D(64, (3, 3), activation='relu', input_shape = (24, 30, 3)))\n",
    "\n",
    "    model.add(MaxPooling2D(pool_size=(2, 2)))\n",
    "\n",
    "    model.add(Flatten())\n",
    "\n",
    "    model.add(Dense(512, activation='relu'))\n",
    "    \n",
    "    model.add(Dropout(0.1))\n",
    "\n",
    "    model.add(Dense(256, activation='relu'))\n",
    "    \n",
    "    model.add(Dense(128, activation='relu'))\n",
    "\n",
    "    model.add(Dense(1, activation='linear'))\n",
    "\n",
    "\n",
    "    model.compile(loss='mean_absolute_error', \n",
    "                      optimizer='adam',\n",
    "                      metrics=['mse']\n",
    "                     )\n",
    "\n",
    "    model.summary()\n",
    "    return model\n"
   ]
  },
  {
   "cell_type": "code",
   "execution_count": 71,
   "id": "3ab1a13e",
   "metadata": {},
   "outputs": [],
   "source": [
    "# Generate model\n",
    "def get_model():\n",
    "    model = keras.Sequential([\n",
    "        keras.layers.Dense(hidden_layer, use_bias = True, activation='relu', kernel_regularizer = tf.keras.regularizers.l2(decay_beta)),\n",
    "        keras.layers.Dense(1)\n",
    "    ])\n",
    "\n",
    "    SGD_opt = keras.optimizers.SGD(learning_rate=learning_rate)\n",
    "\n",
    "    model.compile(optimizer=SGD_opt,\n",
    "                  loss=keras.losses.MeanSquaredError(),\n",
    "                  metrics=['mse'])\n",
    "    return model"
   ]
  },
  {
   "cell_type": "code",
   "execution_count": 73,
   "id": "37a35983",
   "metadata": {},
   "outputs": [],
   "source": [
    "# Train model\n",
    "\n",
    "def fit_model(train_X, train_Y, test_X, test_Y, epochs, batch_size, model, isCallback):\n",
    "    if isCallback:\n",
    "        # stops training when there is no observed improvement in mse for 5 epochs\n",
    "        callback = tf.keras.callbacks.EarlyStopping(monitor='val_mse', min_delta = 0.0001,patience=10)\n",
    "    else:\n",
    "        callback = timeCallback()\n",
    "    history = model.fit(train_X, train_Y,\n",
    "                        epochs=epochs,\n",
    "                        callbacks = [callback],\n",
    "                        verbose = 2,\n",
    "                        batch_size=batch_size,\n",
    "                        validation_data = (test_X, test_Y),\n",
    "                        shuffle=True)\n",
    "    #timeTaken = np.mean(timeTaken.logs)\n",
    "    return history, model"
   ]
  },
  {
   "cell_type": "code",
   "execution_count": 74,
   "id": "94d16c9e",
   "metadata": {},
   "outputs": [],
   "source": [
    "# Plot mean squared error for training and test datasets against number of epochs\n",
    "def plot_mse(mse, mse_test, epochs, bound = False):\n",
    "    plt.clf()\n",
    "    plt.figure(figsize = (15,8))\n",
    "    plt.plot(range(epochs), mse)\n",
    "    plt.plot(range(epochs), mse_test)\n",
    "    plt.xlabel('No. epochs')\n",
    "    plt.ylabel('mse')\n",
    "    plt.legend(['train mse', 'test mse'])\n",
    "    plt.title('mse of train and test data')\n",
    "    if bound:\n",
    "        plt.ylim(0, 0.1)"
   ]
  },
  {
   "cell_type": "code",
   "execution_count": 75,
   "id": "4892a24f",
   "metadata": {},
   "outputs": [],
   "source": [
    "# Function for timing duration per epoch\n",
    "class timeCallback(tf.keras.callbacks.Callback):\n",
    "    \n",
    "    def on_train_begin(self, logs={}):\n",
    "        self.logs=[]\n",
    "\n",
    "    def on_epoch_begin(self, epoch, logs={}):\n",
    "        self.epoch_start = time.time()\n",
    "\n",
    "    def on_epoch_end(self, epoch, logs={}):\n",
    "        self.logs.append(time.time() - self.epoch_start)"
   ]
  },
  {
   "cell_type": "code",
   "execution_count": 39,
   "id": "f38f7cf2",
   "metadata": {},
   "outputs": [],
   "source": [
    "# Hyperparameters\n",
    "\n",
    "NUM_CLASSES = 7\n",
    "\n",
    "epochs = 100\n",
    "batch_size = 16\n",
    "\n",
    "seed = 10\n",
    "np.random.seed(seed)\n",
    "tf.random.set_seed(seed)"
   ]
  },
  {
   "cell_type": "code",
   "execution_count": 76,
   "id": "8b3e5db0",
   "metadata": {},
   "outputs": [
    {
     "name": "stdout",
     "output_type": "stream",
     "text": [
      "Model: \"sequential\"\n",
      "_________________________________________________________________\n",
      "Layer (type)                 Output Shape              Param #   \n",
      "=================================================================\n",
      "conv2d (Conv2D)              (None, 22, 28, 64)        1792      \n",
      "_________________________________________________________________\n",
      "max_pooling2d (MaxPooling2D) (None, 11, 14, 64)        0         \n",
      "_________________________________________________________________\n",
      "flatten (Flatten)            (None, 9856)              0         \n",
      "_________________________________________________________________\n",
      "dense (Dense)                (None, 512)               5046784   \n",
      "_________________________________________________________________\n",
      "dropout (Dropout)            (None, 512)               0         \n",
      "_________________________________________________________________\n",
      "dense_1 (Dense)              (None, 256)               131328    \n",
      "_________________________________________________________________\n",
      "dense_2 (Dense)              (None, 128)               32896     \n",
      "_________________________________________________________________\n",
      "dense_3 (Dense)              (None, 1)                 129       \n",
      "=================================================================\n",
      "Total params: 5,212,929\n",
      "Trainable params: 5,212,929\n",
      "Non-trainable params: 0\n",
      "_________________________________________________________________\n",
      "Epoch 1/100\n",
      "188/188 - 4s - loss: 9.2108 - mse: 1927.4999 - val_loss: 0.1865 - val_mse: 0.1473\n",
      "Epoch 2/100\n",
      "188/188 - 1s - loss: 0.2027 - mse: 0.0933 - val_loss: 0.0927 - val_mse: 0.0196\n",
      "Epoch 3/100\n",
      "188/188 - 1s - loss: 0.0913 - mse: 0.0214 - val_loss: 0.0455 - val_mse: 0.0053\n",
      "Epoch 4/100\n",
      "188/188 - 1s - loss: 0.0499 - mse: 0.0067 - val_loss: 0.0355 - val_mse: 0.0052\n",
      "Epoch 5/100\n",
      "188/188 - 1s - loss: 0.0373 - mse: 0.0046 - val_loss: 0.0252 - val_mse: 0.0029\n",
      "Epoch 6/100\n",
      "188/188 - 1s - loss: 0.0284 - mse: 0.0034 - val_loss: 0.0165 - val_mse: 0.0013\n",
      "Epoch 7/100\n",
      "188/188 - 1s - loss: 0.0235 - mse: 0.0024 - val_loss: 0.0191 - val_mse: 0.0018\n",
      "Epoch 8/100\n",
      "188/188 - 1s - loss: 0.0211 - mse: 0.0021 - val_loss: 0.0133 - val_mse: 0.0013\n",
      "Epoch 9/100\n",
      "188/188 - 1s - loss: 0.0185 - mse: 0.0022 - val_loss: 0.0158 - val_mse: 0.0015\n",
      "Epoch 10/100\n",
      "188/188 - 1s - loss: 0.0177 - mse: 0.0019 - val_loss: 0.0140 - val_mse: 0.0011\n",
      "Epoch 11/100\n",
      "188/188 - 1s - loss: 0.0155 - mse: 0.0015 - val_loss: 0.0145 - val_mse: 0.0011\n",
      "Epoch 12/100\n",
      "188/188 - 1s - loss: 0.0149 - mse: 0.0012 - val_loss: 0.0155 - val_mse: 0.0017\n",
      "Epoch 13/100\n",
      "188/188 - 1s - loss: 0.0145 - mse: 0.0014 - val_loss: 0.0130 - val_mse: 0.0011\n",
      "Epoch 14/100\n",
      "188/188 - 1s - loss: 0.0134 - mse: 0.0015 - val_loss: 0.0110 - val_mse: 0.0010\n",
      "Epoch 15/100\n",
      "188/188 - 1s - loss: 0.0128 - mse: 0.0014 - val_loss: 0.0104 - val_mse: 8.3725e-04\n",
      "Epoch 16/100\n",
      "188/188 - 1s - loss: 0.0119 - mse: 0.0013 - val_loss: 0.0137 - val_mse: 0.0016\n",
      "Epoch 17/100\n",
      "188/188 - 1s - loss: 0.0119 - mse: 0.0013 - val_loss: 0.0111 - val_mse: 8.2067e-04\n",
      "Epoch 18/100\n",
      "188/188 - 1s - loss: 0.0119 - mse: 0.0013 - val_loss: 0.0097 - val_mse: 8.5684e-04\n",
      "Epoch 19/100\n",
      "188/188 - 1s - loss: 0.0118 - mse: 0.0014 - val_loss: 0.0106 - val_mse: 0.0010\n",
      "Epoch 20/100\n",
      "188/188 - 1s - loss: 0.0122 - mse: 0.0015 - val_loss: 0.0103 - val_mse: 7.7405e-04\n",
      "Epoch 21/100\n",
      "188/188 - 1s - loss: 0.0111 - mse: 0.0010 - val_loss: 0.0106 - val_mse: 0.0010\n",
      "Epoch 22/100\n",
      "188/188 - 1s - loss: 0.0112 - mse: 0.0012 - val_loss: 0.0105 - val_mse: 8.9553e-04\n",
      "Epoch 23/100\n",
      "188/188 - 1s - loss: 0.0112 - mse: 0.0014 - val_loss: 0.0103 - val_mse: 9.6032e-04\n",
      "Epoch 24/100\n",
      "188/188 - 1s - loss: 0.0116 - mse: 0.0013 - val_loss: 0.0103 - val_mse: 0.0011\n",
      "Epoch 25/100\n",
      "188/188 - 1s - loss: 0.0108 - mse: 0.0013 - val_loss: 0.0114 - val_mse: 0.0011\n",
      "Epoch 26/100\n",
      "188/188 - 1s - loss: 0.0109 - mse: 0.0014 - val_loss: 0.0094 - val_mse: 9.4449e-04\n",
      "Epoch 27/100\n",
      "188/188 - 1s - loss: 0.0109 - mse: 0.0012 - val_loss: 0.0110 - val_mse: 7.9403e-04\n",
      "Epoch 28/100\n",
      "188/188 - 1s - loss: 0.0110 - mse: 0.0012 - val_loss: 0.0105 - val_mse: 0.0012\n",
      "Epoch 29/100\n",
      "188/188 - 1s - loss: 0.0111 - mse: 0.0013 - val_loss: 0.0106 - val_mse: 7.7873e-04\n",
      "Epoch 30/100\n",
      "188/188 - 1s - loss: 0.0112 - mse: 0.0016 - val_loss: 0.0101 - val_mse: 0.0010\n",
      "Epoch 31/100\n",
      "188/188 - 1s - loss: 0.0114 - mse: 0.0018 - val_loss: 0.0098 - val_mse: 0.0012\n",
      "Epoch 32/100\n",
      "188/188 - 1s - loss: 0.0108 - mse: 0.0016 - val_loss: 0.0089 - val_mse: 7.7345e-04\n",
      "Epoch 33/100\n",
      "188/188 - 1s - loss: 0.0108 - mse: 0.0016 - val_loss: 0.0102 - val_mse: 0.0012\n",
      "Epoch 34/100\n",
      "188/188 - 1s - loss: 0.0108 - mse: 0.0012 - val_loss: 0.0128 - val_mse: 0.0011\n",
      "Epoch 35/100\n",
      "188/188 - 1s - loss: 0.0108 - mse: 0.0012 - val_loss: 0.0096 - val_mse: 6.6777e-04\n",
      "Epoch 36/100\n",
      "188/188 - 1s - loss: 0.0111 - mse: 0.0012 - val_loss: 0.0093 - val_mse: 8.9930e-04\n",
      "Epoch 37/100\n",
      "188/188 - 1s - loss: 0.0105 - mse: 0.0012 - val_loss: 0.0088 - val_mse: 7.6226e-04\n",
      "Epoch 38/100\n",
      "188/188 - 1s - loss: 0.0109 - mse: 0.0012 - val_loss: 0.0136 - val_mse: 0.0014\n",
      "Epoch 39/100\n",
      "188/188 - 1s - loss: 0.0107 - mse: 9.5479e-04 - val_loss: 0.0105 - val_mse: 7.0345e-04\n",
      "Epoch 40/100\n",
      "188/188 - 1s - loss: 0.0103 - mse: 0.0012 - val_loss: 0.0099 - val_mse: 7.9986e-04\n",
      "Epoch 41/100\n",
      "188/188 - 1s - loss: 0.0103 - mse: 0.0011 - val_loss: 0.0096 - val_mse: 7.5823e-04\n",
      "Epoch 42/100\n",
      "188/188 - 1s - loss: 0.0103 - mse: 0.0012 - val_loss: 0.0091 - val_mse: 8.3433e-04\n",
      "Epoch 43/100\n",
      "188/188 - 1s - loss: 0.0108 - mse: 0.0013 - val_loss: 0.0094 - val_mse: 6.0475e-04\n",
      "Epoch 44/100\n",
      "188/188 - 1s - loss: 0.0106 - mse: 0.0011 - val_loss: 0.0085 - val_mse: 5.9730e-04\n",
      "Epoch 45/100\n",
      "188/188 - 1s - loss: 0.0098 - mse: 9.2412e-04 - val_loss: 0.0091 - val_mse: 6.0163e-04\n",
      "Epoch 46/100\n",
      "188/188 - 1s - loss: 0.0100 - mse: 9.0400e-04 - val_loss: 0.0098 - val_mse: 8.8659e-04\n",
      "Epoch 47/100\n",
      "188/188 - 1s - loss: 0.0102 - mse: 0.0012 - val_loss: 0.0115 - val_mse: 0.0011\n",
      "Epoch 48/100\n",
      "188/188 - 1s - loss: 0.0112 - mse: 0.0012 - val_loss: 0.0082 - val_mse: 5.9481e-04\n",
      "Epoch 49/100\n",
      "188/188 - 1s - loss: 0.0102 - mse: 0.0010 - val_loss: 0.0093 - val_mse: 6.7805e-04\n",
      "Epoch 50/100\n",
      "188/188 - 1s - loss: 0.0099 - mse: 0.0010 - val_loss: 0.0093 - val_mse: 7.6573e-04\n",
      "Epoch 51/100\n",
      "188/188 - 1s - loss: 0.0098 - mse: 9.5099e-04 - val_loss: 0.0098 - val_mse: 8.7299e-04\n",
      "Epoch 52/100\n",
      "188/188 - 1s - loss: 0.0103 - mse: 0.0011 - val_loss: 0.0090 - val_mse: 0.0012\n",
      "Epoch 53/100\n",
      "188/188 - 1s - loss: 0.0107 - mse: 0.0017 - val_loss: 0.0092 - val_mse: 8.3465e-04\n",
      "Epoch 54/100\n",
      "188/188 - 1s - loss: 0.0098 - mse: 0.0012 - val_loss: 0.0102 - val_mse: 8.8691e-04\n",
      "Epoch 55/100\n",
      "188/188 - 1s - loss: 0.0107 - mse: 0.0012 - val_loss: 0.0091 - val_mse: 7.0680e-04\n",
      "Epoch 56/100\n",
      "188/188 - 1s - loss: 0.0103 - mse: 0.0010 - val_loss: 0.0104 - val_mse: 7.7841e-04\n",
      "Epoch 57/100\n",
      "188/188 - 1s - loss: 0.0105 - mse: 0.0014 - val_loss: 0.0083 - val_mse: 6.2914e-04\n",
      "Epoch 58/100\n",
      "188/188 - 1s - loss: 0.0112 - mse: 0.0016 - val_loss: 0.0080 - val_mse: 5.5919e-04\n",
      "Epoch 59/100\n",
      "188/188 - 1s - loss: 0.0094 - mse: 8.9082e-04 - val_loss: 0.0086 - val_mse: 6.4749e-04\n",
      "Epoch 60/100\n",
      "188/188 - 1s - loss: 0.0102 - mse: 0.0013 - val_loss: 0.0119 - val_mse: 0.0011\n",
      "Epoch 61/100\n",
      "188/188 - 1s - loss: 0.0103 - mse: 0.0012 - val_loss: 0.0104 - val_mse: 0.0012\n",
      "Epoch 62/100\n",
      "188/188 - 1s - loss: 0.0097 - mse: 0.0011 - val_loss: 0.0088 - val_mse: 7.8666e-04\n",
      "Epoch 63/100\n",
      "188/188 - 1s - loss: 0.0099 - mse: 0.0012 - val_loss: 0.0089 - val_mse: 6.8955e-04\n",
      "Epoch 64/100\n",
      "188/188 - 1s - loss: 0.0092 - mse: 8.8648e-04 - val_loss: 0.0085 - val_mse: 8.1602e-04\n",
      "Epoch 65/100\n",
      "188/188 - 1s - loss: 0.0098 - mse: 9.8327e-04 - val_loss: 0.0098 - val_mse: 8.4425e-04\n",
      "Epoch 66/100\n",
      "188/188 - 1s - loss: 0.0094 - mse: 8.5926e-04 - val_loss: 0.0091 - val_mse: 0.0010\n",
      "Epoch 67/100\n",
      "188/188 - 1s - loss: 0.0099 - mse: 0.0010 - val_loss: 0.0087 - val_mse: 6.8702e-04\n",
      "Epoch 68/100\n",
      "188/188 - 1s - loss: 0.0095 - mse: 0.0012 - val_loss: 0.0098 - val_mse: 7.0378e-04\n",
      "Epoch 69/100\n",
      "188/188 - 1s - loss: 0.0095 - mse: 0.0011 - val_loss: 0.0079 - val_mse: 5.8174e-04\n",
      "Epoch 70/100\n",
      "188/188 - 1s - loss: 0.0093 - mse: 0.0010 - val_loss: 0.0087 - val_mse: 6.3520e-04\n",
      "Epoch 71/100\n",
      "188/188 - 1s - loss: 0.0097 - mse: 0.0012 - val_loss: 0.0081 - val_mse: 5.2469e-04\n",
      "Epoch 72/100\n",
      "188/188 - 1s - loss: 0.0096 - mse: 0.0011 - val_loss: 0.0086 - val_mse: 0.0011\n"
     ]
    },
    {
     "name": "stdout",
     "output_type": "stream",
     "text": [
      "Epoch 73/100\n",
      "188/188 - 1s - loss: 0.0098 - mse: 0.0020 - val_loss: 0.0079 - val_mse: 5.6972e-04\n",
      "Epoch 74/100\n",
      "188/188 - 1s - loss: 0.0090 - mse: 0.0012 - val_loss: 0.0082 - val_mse: 8.2021e-04\n",
      "Epoch 75/100\n",
      "188/188 - 1s - loss: 0.0094 - mse: 0.0011 - val_loss: 0.0083 - val_mse: 6.5732e-04\n",
      "Epoch 76/100\n",
      "188/188 - 1s - loss: 0.0096 - mse: 0.0012 - val_loss: 0.0085 - val_mse: 6.5832e-04\n",
      "Epoch 77/100\n",
      "188/188 - 1s - loss: 0.0088 - mse: 8.4982e-04 - val_loss: 0.0086 - val_mse: 6.9899e-04\n",
      "Epoch 78/100\n",
      "188/188 - 1s - loss: 0.0090 - mse: 9.7358e-04 - val_loss: 0.0079 - val_mse: 7.2006e-04\n",
      "Epoch 79/100\n",
      "188/188 - 1s - loss: 0.0089 - mse: 8.9888e-04 - val_loss: 0.0081 - val_mse: 5.3451e-04\n",
      "Epoch 80/100\n",
      "188/188 - 1s - loss: 0.0089 - mse: 9.7862e-04 - val_loss: 0.0084 - val_mse: 8.9302e-04\n",
      "Epoch 81/100\n",
      "188/188 - 1s - loss: 0.0086 - mse: 8.5931e-04 - val_loss: 0.0084 - val_mse: 9.3909e-04\n",
      "Epoch 82/100\n",
      "188/188 - 1s - loss: 0.0088 - mse: 9.2677e-04 - val_loss: 0.0078 - val_mse: 5.7955e-04\n",
      "Epoch 83/100\n",
      "188/188 - 1s - loss: 0.0089 - mse: 0.0012 - val_loss: 0.0083 - val_mse: 5.9215e-04\n",
      "Epoch 84/100\n",
      "188/188 - 1s - loss: 0.0085 - mse: 8.5835e-04 - val_loss: 0.0080 - val_mse: 8.3207e-04\n",
      "Epoch 85/100\n",
      "188/188 - 1s - loss: 0.0087 - mse: 8.8933e-04 - val_loss: 0.0084 - val_mse: 7.4273e-04\n",
      "Epoch 86/100\n",
      "188/188 - 1s - loss: 0.0084 - mse: 7.4094e-04 - val_loss: 0.0080 - val_mse: 6.5018e-04\n",
      "Epoch 87/100\n",
      "188/188 - 1s - loss: 0.0083 - mse: 7.9368e-04 - val_loss: 0.0081 - val_mse: 4.8038e-04\n",
      "Epoch 88/100\n",
      "188/188 - 1s - loss: 0.0090 - mse: 9.9885e-04 - val_loss: 0.0081 - val_mse: 5.0631e-04\n",
      "Epoch 89/100\n",
      "188/188 - 1s - loss: 0.0090 - mse: 9.3032e-04 - val_loss: 0.0087 - val_mse: 0.0013\n",
      "Epoch 90/100\n",
      "188/188 - 1s - loss: 0.0085 - mse: 9.3065e-04 - val_loss: 0.0077 - val_mse: 7.9443e-04\n",
      "Epoch 91/100\n",
      "188/188 - 1s - loss: 0.0089 - mse: 9.5306e-04 - val_loss: 0.0086 - val_mse: 6.6432e-04\n",
      "Epoch 92/100\n",
      "188/188 - 1s - loss: 0.0088 - mse: 9.4051e-04 - val_loss: 0.0078 - val_mse: 5.4841e-04\n",
      "Epoch 93/100\n",
      "188/188 - 1s - loss: 0.0087 - mse: 8.0710e-04 - val_loss: 0.0079 - val_mse: 7.7602e-04\n",
      "Epoch 94/100\n",
      "188/188 - 1s - loss: 0.0085 - mse: 8.8781e-04 - val_loss: 0.0078 - val_mse: 7.4848e-04\n",
      "Epoch 95/100\n",
      "188/188 - 1s - loss: 0.0086 - mse: 8.2168e-04 - val_loss: 0.0075 - val_mse: 5.0917e-04\n",
      "Epoch 96/100\n",
      "188/188 - 1s - loss: 0.0081 - mse: 7.1152e-04 - val_loss: 0.0076 - val_mse: 5.5600e-04\n",
      "Epoch 97/100\n",
      "188/188 - 1s - loss: 0.0091 - mse: 0.0011 - val_loss: 0.0077 - val_mse: 6.2463e-04\n",
      "Epoch 98/100\n",
      "188/188 - 1s - loss: 0.0090 - mse: 0.0012 - val_loss: 0.0090 - val_mse: 9.1681e-04\n",
      "Epoch 99/100\n",
      "188/188 - 1s - loss: 0.0086 - mse: 8.5219e-04 - val_loss: 0.0071 - val_mse: 4.8599e-04\n",
      "Epoch 100/100\n",
      "188/188 - 1s - loss: 0.0082 - mse: 7.5328e-04 - val_loss: 0.0085 - val_mse: 6.5992e-04\n"
     ]
    }
   ],
   "source": [
    "model = getModel()\n",
    "history, model = fit_model(x_train, y_train, x_val, y_val, epochs, batch_size, model, False)"
   ]
  },
  {
   "cell_type": "code",
   "execution_count": 79,
   "id": "d411b41f",
   "metadata": {},
   "outputs": [
    {
     "name": "stdout",
     "output_type": "stream",
     "text": [
      "[0.008493012748658657, 0.0006599205662496388]\n"
     ]
    }
   ],
   "source": [
    "score = model.evaluate(x_val, y_val, verbose=0)\n",
    "print(score)"
   ]
  },
  {
   "cell_type": "code",
   "execution_count": 81,
   "id": "122cb206",
   "metadata": {},
   "outputs": [
    {
     "data": {
      "text/plain": [
       "<function matplotlib.pyplot.show(close=None, block=None)>"
      ]
     },
     "execution_count": 81,
     "metadata": {},
     "output_type": "execute_result"
    },
    {
     "data": {
      "image/png": "[encoded data removed]",
      "text/plain": [
       "<Figure size 936x504 with 1 Axes>"
      ]
     },
     "metadata": {
      "needs_background": "light"
     },
     "output_type": "display_data"
    }
   ],
   "source": [
    "preds = model.predict(x_test)\n",
    "preds = preds[:,0]\n",
    "plt.figure(figsize=(13,7))\n",
    "plt.scatter(y_test, preds, alpha = 0.5)\n",
    "# plt.xlim(0,0.1)\n",
    "# plt.ylim(0,0.1)\n",
    "plt.xlabel('test label')\n",
    "plt.ylabel('predicted label')\n",
    "plt.title('Model Performance on Test Data')\n",
    "plt.show"
   ]
  },
  {
   "cell_type": "code",
   "execution_count": 82,
   "id": "e901f958",
   "metadata": {},
   "outputs": [
    {
     "name": "stderr",
     "output_type": "stream",
     "text": [
      "D:\\Anaconda\\lib\\site-packages\\seaborn\\distributions.py:2619: FutureWarning: `distplot` is a deprecated function and will be removed in a future version. Please adapt your code to use either `displot` (a figure-level function with similar flexibility) or `histplot` (an axes-level function for histograms).\n",
      "  warnings.warn(msg, FutureWarning)\n"
     ]
    },
    {
     "data": {
      "image/png": "[encoded data removed]",
      "text/plain": [
       "<Figure size 720x288 with 1 Axes>"
      ]
     },
     "metadata": {
      "needs_background": "light"
     },
     "output_type": "display_data"
    }
   ],
   "source": [
    "residuals = y_test - preds\n",
    "fig, ax = plt.subplots(figsize=(10,4))\n",
    "a = sb.distplot(residuals, ax=ax)\n",
    "plt.xlabel('residuals')\n",
    "plt.show()"
   ]
  },
  {
   "cell_type": "code",
   "execution_count": 83,
   "id": "e5057995",
   "metadata": {},
   "outputs": [
    {
     "data": {
      "text/plain": [
       "0.8097636000705107"
      ]
     },
     "execution_count": 83,
     "metadata": {},
     "output_type": "execute_result"
    }
   ],
   "source": [
    "r2_score(y_test, preds)"
   ]
  },
  {
   "cell_type": "code",
   "execution_count": 10,
   "id": "9a546866",
   "metadata": {},
   "outputs": [],
   "source": [
    "#model.save('model')"
   ]
  },
  {
   "cell_type": "code",
   "execution_count": 84,
   "id": "4ae93dbf",
   "metadata": {},
   "outputs": [
    {
     "data": {
      "text/plain": [
       "<Figure size 432x288 with 0 Axes>"
      ]
     },
     "metadata": {},
     "output_type": "display_data"
    },
    {
     "data": {
      "image/png": "[encoded data removed]",
      "text/plain": [
       "<Figure size 1080x576 with 1 Axes>"
      ]
     },
     "metadata": {
      "needs_background": "light"
     },
     "output_type": "display_data"
    }
   ],
   "source": [
    "plot_mse(history.history['mse'], history.history['val_mse'], len(history.history['mse']), True)"
   ]
  },
  {
   "cell_type": "code",
   "execution_count": null,
   "id": "16c58171",
   "metadata": {},
   "outputs": [],
   "source": [
    "# Postgres residuals\n",
    "\n",
    "residual = labels - y\n",
    "fig, ax = plt.subplots(figsize=(10,4))\n",
    "a = sb.distplot(residual, ax=ax)\n",
    "plt.xlabel('residuals')\n",
    "plt.show()\n",
    "#sb.distplot(residual)"
   ]
  },
  {
   "cell_type": "code",
   "execution_count": null,
   "id": "0da6be5f",
   "metadata": {},
   "outputs": [],
   "source": [
    "r2_score(labels, y)"
   ]
  }
 ],
 "metadata": {
  "kernelspec": {
   "display_name": "Python 3 (ipykernel)",
   "language": "python",
   "name": "python3"
  },
  "language_info": {
   "codemirror_mode": {
    "name": "ipython",
    "version": 3
   },
   "file_extension": ".py",
   "mimetype": "text/x-python",
   "name": "python",
   "nbconvert_exporter": "python",
   "pygments_lexer": "ipython3",
   "version": "3.8.13"
  }
 },
 "nbformat": 4,
 "nbformat_minor": 5
}
